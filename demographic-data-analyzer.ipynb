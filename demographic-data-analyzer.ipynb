{
 "cells": [
  {
   "cell_type": "code",
   "execution_count": 1,
   "id": "1e01289e-2602-4518-9694-2a3450c78055",
   "metadata": {
    "tags": []
   },
   "outputs": [],
   "source": [
    "import pandas as pd"
   ]
  },
  {
   "cell_type": "code",
   "execution_count": 2,
   "id": "2e9590ca-8c86-4e3d-a47e-215d11e8f68d",
   "metadata": {
    "tags": []
   },
   "outputs": [],
   "source": [
    "def calculate_demographic_data(print_data=True):\n",
    "  # Read data from file\n",
    "  df = pd.read_csv('datasets/adult.data.csv')\n",
    "\n",
    "  # How many of each race are represented in this dataset? This should be a Pandas series with race names as the index labels.\n",
    "  race_count = df['race'].value_counts()\n",
    "\n",
    "  # What is the average age of men?\n",
    "  males = df[df['sex'] == 'Male']\n",
    "  average_age_men = males['age'].mean()\n",
    "\n",
    "  # What is the percentage of people who have a Bachelor's degree?\n",
    "  bachelors = len(df[df['education'] == 'Bachelors'])\n",
    "  total = len(df)\n",
    "  percentage_bachelors = (bachelors / total) * 100\n",
    "\n",
    "  # What percentage of people with advanced education (`Bachelors`, `Masters`, or `Doctorate`) make more than 50K?\n",
    "  # What percentage of people without advanced education make more than 50K?\n",
    "  advanced_degrees = ['Bachelors', 'Masters', 'Doctorate']\n",
    "  advanced_50k = df[(df['education'].isin(advanced_degrees))\n",
    "                    & (df['salary'] == '>50K')]\n",
    "  advanced_total = df[df['education'].isin(advanced_degrees)]\n",
    "  advanced_count = len(advanced_total)\n",
    "  lower_50k = df[(~df['education'].isin(advanced_degrees))\n",
    "                 & (df['salary'] == '>50K')]\n",
    "  lower_total = df[~df['education'].isin(advanced_degrees)]\n",
    "  lower_count = len(lower_total)\n",
    "\n",
    "  # with and without `Bachelors`, `Masters`, or `Doctorate`\n",
    "  higher_education = len(advanced_50k)\n",
    "  lower_education = len(lower_50k)\n",
    "\n",
    "  # percentage with salary >50K\n",
    "  higher_education_rich = (higher_education / advanced_count) * 100\n",
    "  lower_education_rich = (lower_education / lower_count) * 100\n",
    "\n",
    "  # What is the minimum number of hours a person works per week (hours-per-week feature)?\n",
    "  min_work_hours = df['hours-per-week'].min()\n",
    "\n",
    "  # What percentage of the people who work the minimum number of hours per week have a salary of >50K?\n",
    "  min_hours_50k = df[(df['hours-per-week'] == min_work_hours)\n",
    "                     & (df['salary'] == '>50K')]\n",
    "  min_hours_total = df[df['hours-per-week'] == min_work_hours]\n",
    "  min_hours_50k_count = len(min_hours_50k)\n",
    "  min_hours_total_count = len(min_hours_total)\n",
    "\n",
    "  rich_percentage = (min_hours_50k_count / min_hours_total_count) * 100\n",
    "\n",
    "  # What country has the highest percentage of people that earn >50K?\n",
    "  above_50k_df = df[df['salary'] == '>50K']\n",
    "  grouped_data = above_50k_df.groupby(['native-country'])\n",
    "  percentages = grouped_data['native-country'].count() / df.groupby(\n",
    "    ['native-country'])['native-country'].count() * 100\n",
    "\n",
    "  highest_earning_country = percentages.idxmax()\n",
    "  highest_earning_country_percentage = percentages[highest_earning_country]\n",
    "\n",
    "  # Identify the most popular occupation for those who earn >50K in India.\n",
    "  india_above_50k = df[(df['native-country'] == 'India')\n",
    "                       & (df['salary'] == '>50K')]\n",
    "  occupation_counts = india_above_50k.groupby(['occupation'\n",
    "                                               ])['occupation'].count()\n",
    "  top_IN_occupation = occupation_counts.idxmax()\n",
    "\n",
    "  # DO NOT MODIFY BELOW THIS LINE\n",
    "\n",
    "  if print_data:\n",
    "    print(\"Number of each race:\\n\", race_count)\n",
    "    print(\"Average age of men:\", average_age_men)\n",
    "    print(f\"Percentage with Bachelors degrees: {percentage_bachelors}%\")\n",
    "    print(\n",
    "      f\"Percentage with higher education that earn >50K: {higher_education_rich}%\"\n",
    "    )\n",
    "    print(\n",
    "      f\"Percentage without higher education that earn >50K: {lower_education_rich}%\"\n",
    "    )\n",
    "    print(f\"Min work time: {min_work_hours} hours/week\")\n",
    "    print(\n",
    "      f\"Percentage of rich among those who work fewest hours: {rich_percentage}%\"\n",
    "    )\n",
    "    print(\"Country with highest percentage of rich:\", highest_earning_country)\n",
    "    print(\n",
    "      f\"Highest percentage of rich people in country: {highest_earning_country_percentage}%\"\n",
    "    )\n",
    "    print(\"Top occupations in India:\", top_IN_occupation)\n",
    "\n",
    "  return {\n",
    "    'race_count': race_count,\n",
    "    'average_age_men': average_age_men,\n",
    "    'percentage_bachelors': percentage_bachelors,\n",
    "    'higher_education_rich': higher_education_rich,\n",
    "    'lower_education_rich': lower_education_rich,\n",
    "    'min_work_hours': min_work_hours,\n",
    "    'rich_percentage': rich_percentage,\n",
    "    'highest_earning_country': highest_earning_country,\n",
    "    'highest_earning_country_percentage': highest_earning_country_percentage,\n",
    "    'top_IN_occupation': top_IN_occupation\n",
    "  }\n"
   ]
  },
  {
   "cell_type": "code",
   "execution_count": 3,
   "id": "4d4bace9-518d-41da-92b8-9c0eeb972247",
   "metadata": {
    "tags": []
   },
   "outputs": [
    {
     "name": "stdout",
     "output_type": "stream",
     "text": [
      "Number of each race:\n",
      " White                 27816\n",
      "Black                  3124\n",
      "Asian-Pac-Islander     1039\n",
      "Amer-Indian-Eskimo      311\n",
      "Other                   271\n",
      "Name: race, dtype: int64\n",
      "Average age of men: 39.43354749885268\n",
      "Percentage with Bachelors degrees: 16.44605509658794%\n",
      "Percentage with higher education that earn >50K: 46.535843011613935%\n",
      "Percentage without higher education that earn >50K: 17.3713601914639%\n",
      "Min work time: 1 hours/week\n",
      "Percentage of rich among those who work fewest hours: 10.0%\n",
      "Country with highest percentage of rich: Iran\n",
      "Highest percentage of rich people in country: 41.86046511627907%\n",
      "Top occupations in India: Prof-specialty\n"
     ]
    },
    {
     "data": {
      "text/plain": [
       "{'race_count': White                 27816\n",
       " Black                  3124\n",
       " Asian-Pac-Islander     1039\n",
       " Amer-Indian-Eskimo      311\n",
       " Other                   271\n",
       " Name: race, dtype: int64,\n",
       " 'average_age_men': 39.43354749885268,\n",
       " 'percentage_bachelors': 16.44605509658794,\n",
       " 'higher_education_rich': 46.535843011613935,\n",
       " 'lower_education_rich': 17.3713601914639,\n",
       " 'min_work_hours': 1,\n",
       " 'rich_percentage': 10.0,\n",
       " 'highest_earning_country': 'Iran',\n",
       " 'highest_earning_country_percentage': 41.86046511627907,\n",
       " 'top_IN_occupation': 'Prof-specialty'}"
      ]
     },
     "execution_count": 3,
     "metadata": {},
     "output_type": "execute_result"
    }
   ],
   "source": [
    "calculate_demographic_data()"
   ]
  }
 ],
 "metadata": {
  "kernelspec": {
   "display_name": "Python 3 (ipykernel)",
   "language": "python",
   "name": "python3"
  },
  "language_info": {
   "codemirror_mode": {
    "name": "ipython",
    "version": 3
   },
   "file_extension": ".py",
   "mimetype": "text/x-python",
   "name": "python",
   "nbconvert_exporter": "python",
   "pygments_lexer": "ipython3",
   "version": "3.11.1"
  }
 },
 "nbformat": 4,
 "nbformat_minor": 5
}
